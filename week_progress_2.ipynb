{
 "cells": [
  {
   "cell_type": "markdown",
   "metadata": {},
   "source": [
    "# Week Progress 2\n",
    "\n",
    "An open source alternative of [twitter.com/weekprogress](https://twitter.com/weekprogress)"
   ]
  },
  {
   "cell_type": "markdown",
   "metadata": {},
   "source": [
    "---"
   ]
  },
  {
   "cell_type": "markdown",
   "metadata": {},
   "source": [
    "## How to use\n",
    "\n",
    "1. Create your Twitter app credentials at [developer.twitter.com](https://developer.twitter.com)\n",
    "2. Save you credentials in the `.env` file\n",
    "    ```env\n",
    "    TWITTER_CONSUMER_KEY='YOUR_TWITTER_CONSUMER_KEY'\n",
    "    TWITTER_CONSUMER_SECRET='YOUR_TWITTER_CONSUMER_SECRET'\n",
    "    TWITTER_ACCESS_TOKEN='YOUR_TWITTER_ACCESS_TOKEN'\n",
    "    TWITTER_ACCESS_TOKEN_SECRET='YOUR_TWITTER_ACCESS_TOKEN_SECRET'\n",
    "    ```\n",
    "3. Create a virtual environment and install the dependencies\n",
    "    ```shell\n",
    "    python3 -m venv .venv\n",
    "    source .venv/bin/activate\n",
    "    pip install -r requirements.txt\n",
    "    ```\n",
    "4. Convert the notebook to a Python script\n",
    "    ```shell\n",
    "    jupyter nbconvert --to python week_progress_2.ipynb\n",
    "    ```\n",
    "5. Run the script\n",
    "    ```shell\n",
    "    python3 week_progress_2.py\n",
    "    ```\n",
    "\n",
    "    or\n",
    "\n",
    "    ```shell\n",
    "    ipython week_progress_2.py\n",
    "    ```\n",
    "\n",
    "> If you don't want to store your credentials in the `.env` file, you can pass them as arguments as well.\n",
    "\n",
    "```shell\n",
    "python3 week_progress_2.py -1 YOUR_TWITTER_CONSUMER_KEY -2 YOUR_TWITTER_CONSUMER_SECRET -3 YOUR_TWITTER_ACCESS_TOKEN -4 YOUR_TWITTER_ACCESS_TOKEN_SECRET\n",
    "```\n",
    "\n",
    "or\n",
    "\n",
    "```shell\n",
    "ipython week_progress_2.py -1 YOUR_TWITTER_CONSUMER_KEY -2 YOUR_TWITTER_CONSUMER_SECRET -3 YOUR_TWITTER_ACCESS_TOKEN -4 YOUR_TWITTER_ACCESS_TOKEN_SECRET\n",
    "```\n",
    "\n",
    "---"
   ]
  },
  {
   "cell_type": "markdown",
   "metadata": {},
   "source": [
    "## Code"
   ]
  },
  {
   "cell_type": "code",
   "execution_count": null,
   "metadata": {},
   "outputs": [],
   "source": [
    "import sys\n",
    "import datetime\n",
    "import os\n",
    "import getopt\n",
    "import sys\n",
    "\n",
    "# Other .py files\n",
    "import tweet\n",
    "import progress_bar\n"
   ]
  },
  {
   "cell_type": "markdown",
   "metadata": {},
   "source": [
    "### Progress Bar"
   ]
  },
  {
   "cell_type": "code",
   "execution_count": null,
   "metadata": {},
   "outputs": [],
   "source": [
    "def PROGRESS_BAR(PERCENT=0):\n",
    "    return progress_bar.ProgressBar(PERCENT)\n",
    "\n",
    "\n",
    "print(\"Test : \", PROGRESS_BAR(69))\n"
   ]
  },
  {
   "cell_type": "markdown",
   "metadata": {},
   "source": [
    "### Total Hours in the Week"
   ]
  },
  {
   "cell_type": "code",
   "execution_count": null,
   "metadata": {},
   "outputs": [],
   "source": [
    "TOTAL_HOURS = 7*24\n",
    "\n",
    "print(\"Total Hours:\", TOTAL_HOURS)\n"
   ]
  },
  {
   "cell_type": "markdown",
   "metadata": {},
   "source": [
    "### Current Hour"
   ]
  },
  {
   "cell_type": "code",
   "execution_count": null,
   "metadata": {},
   "outputs": [],
   "source": [
    "CURRENT_HOUR = datetime.datetime.today().weekday()*24 + datetime.datetime.now().hour\n",
    "\n",
    "print(\"Current Hour:\", CURRENT_HOUR)\n"
   ]
  },
  {
   "cell_type": "markdown",
   "metadata": {},
   "source": [
    "### List of Hours to post the progress\n",
    "\n",
    "The hours when the progress is increased by ~1%"
   ]
  },
  {
   "cell_type": "code",
   "execution_count": null,
   "metadata": {},
   "outputs": [],
   "source": [
    "def list_of_hours_to_tweet():\n",
    "\n",
    "    HOURS = []\n",
    "\n",
    "    for i in range(0, 101):\n",
    "        PERCENT = TOTAL_HOURS * i / 100\n",
    "\n",
    "        HOUR = int(PERCENT)\n",
    "        \n",
    "        if HOUR == TOTAL_HOURS:\n",
    "            HOUR = TOTAL_HOURS - 1\n",
    "        \n",
    "        HOURS.append(HOUR)\n",
    "\n",
    "    return HOURS\n",
    "\n",
    "\n",
    "print(\"Hours to tweet:\", list_of_hours_to_tweet())\n"
   ]
  },
  {
   "cell_type": "markdown",
   "metadata": {},
   "source": [
    "### Twitter Credentials\n",
    "\n",
    "1. Try to get the credentials passed as arguments\n",
    "2. If not, try to get the credentials from the `.env` file"
   ]
  },
  {
   "cell_type": "code",
   "execution_count": null,
   "metadata": {},
   "outputs": [],
   "source": [
    "CONSUMER_KEY = \"\"\n",
    "CONSUMER_SECRET = \"\"\n",
    "ACCESS_TOKEN = \"\"\n",
    "ACCESS_TOKEN_SECRET = \"\"\n"
   ]
  },
  {
   "cell_type": "code",
   "execution_count": null,
   "metadata": {},
   "outputs": [],
   "source": [
    "argumentList = sys.argv[1:]\n",
    "\n",
    "options = \"1:2:3:4:\"\n",
    "\n",
    "long_options = [\n",
    "    \"twitter_consumer_key=\",\n",
    "    \"twitter_consumer_secret=\",\n",
    "    \"twitter_access_token=\",\n",
    "    \"twitter_access_token_secret=\",\n",
    "]\n",
    "\n",
    "try:\n",
    "    arguments, values = getopt.getopt(argumentList, options, long_options)\n",
    "\n",
    "    for currentArgument, currentValue in arguments:\n",
    "\n",
    "        if currentArgument in [\"-1\", \"--twitter_consumer_key\"]:\n",
    "            CONSUMER_KEY = currentValue\n",
    "        elif currentArgument in [\"-2\", \"--twitter_consumer_secret\"]:\n",
    "            CONSUMER_SECRET = currentValue\n",
    "        elif currentArgument in [\"-3\", \"--twitter_access_token\"]:\n",
    "            ACCESS_TOKEN = currentValue\n",
    "        elif currentArgument in [\"-4\", \"--twitter_access_token_secret\"]:\n",
    "            ACCESS_TOKEN_SECRET = currentValue\n",
    "\n",
    "except getopt.error as err:\n",
    "    \"\"\"You may see an error like 'option --ip not recognized' if executed from Jupyter Notebook\"\"\"\n",
    "    print(str(err))\n"
   ]
  },
  {
   "cell_type": "code",
   "execution_count": null,
   "metadata": {},
   "outputs": [],
   "source": [
    "print(\"Consumer Key:\", CONSUMER_KEY)\n",
    "print(\"Consumer Secret:\", CONSUMER_SECRET)\n",
    "print(\"Access Token:\", ACCESS_TOKEN)\n",
    "print(\"Access Token Secret:\", ACCESS_TOKEN_SECRET)\n"
   ]
  },
  {
   "cell_type": "code",
   "execution_count": null,
   "metadata": {},
   "outputs": [],
   "source": [
    "%load_ext dotenv\n",
    "%dotenv\n",
    "\n",
    "if CONSUMER_KEY == \"\" or CONSUMER_SECRET == \"\" or ACCESS_TOKEN == \"\" or ACCESS_TOKEN_SECRET == \"\":\n",
    "    if CONSUMER_KEY == \"\":\n",
    "        CONSUMER_KEY = os.getenv(\"TWITTER_CONSUMER_KEY\")\n",
    "    if CONSUMER_SECRET == \"\":\n",
    "        CONSUMER_SECRET = os.getenv(\"TWITTER_CONSUMER_SECRET\")\n",
    "    if ACCESS_TOKEN == \"\":\n",
    "        ACCESS_TOKEN = os.getenv(\"TWITTER_ACCESS_TOKEN\")\n",
    "    if ACCESS_TOKEN_SECRET == \"\":\n",
    "        ACCESS_TOKEN_SECRET = os.getenv(\"TWITTER_ACCESS_TOKEN_SECRET\")\n",
    "    print(\"Consumer Key:\", CONSUMER_KEY)\n",
    "    print(\"Consumer Secret:\", CONSUMER_SECRET)\n",
    "    print(\"Access Token:\", ACCESS_TOKEN)\n",
    "    print(\"Access Token Secret:\", ACCESS_TOKEN_SECRET)\n"
   ]
  },
  {
   "cell_type": "markdown",
   "metadata": {},
   "source": [
    "### Tweet\n",
    "\n",
    "If progress is increased by 1%"
   ]
  },
  {
   "cell_type": "code",
   "execution_count": null,
   "metadata": {},
   "outputs": [],
   "source": [
    "def post_tweet():\n",
    "    if CURRENT_HOUR in list_of_hours_to_tweet():\n",
    "\n",
    "        PERCENT = list_of_hours_to_tweet().index(CURRENT_HOUR)\n",
    "\n",
    "        TWEET_TEXT = (f\"{PROGRESS_BAR(PERCENT)}\".strip())\n",
    "        print(TWEET_TEXT)\n",
    "\n",
    "        tweet.TWEET(\n",
    "            TWEET_TEXT,\n",
    "            CONSUMER_KEY,\n",
    "            CONSUMER_SECRET,\n",
    "            ACCESS_TOKEN,\n",
    "            ACCESS_TOKEN_SECRET,\n",
    "        )\n",
    "\n",
    "    else:\n",
    "        print(\"Skip Tweeting :)\")\n"
   ]
  },
  {
   "cell_type": "code",
   "execution_count": null,
   "metadata": {},
   "outputs": [],
   "source": [
    "post_tweet()\n"
   ]
  },
  {
   "cell_type": "markdown",
   "metadata": {},
   "source": [
    "---"
   ]
  },
  {
   "cell_type": "markdown",
   "metadata": {},
   "source": [
    "### Sample Tweet\n",
    "\n",
    "[![Tweet](./images/week_progress_tweet.png)](https://twitter.com/week_progress_2)"
   ]
  },
  {
   "cell_type": "markdown",
   "metadata": {},
   "source": [
    "---"
   ]
  },
  {
   "cell_type": "markdown",
   "metadata": {},
   "source": [
    "<p align=\"center\">Made with 💖 by Codinasion</p>"
   ]
  },
  {
   "cell_type": "markdown",
   "metadata": {},
   "source": [
    "---"
   ]
  }
 ],
 "metadata": {
  "kernelspec": {
   "display_name": "Python 3.10.6 ('.venv': venv)",
   "language": "python",
   "name": "python3"
  },
  "language_info": {
   "codemirror_mode": {
    "name": "ipython",
    "version": 3
   },
   "file_extension": ".py",
   "mimetype": "text/x-python",
   "name": "python",
   "nbconvert_exporter": "python",
   "pygments_lexer": "ipython3",
   "version": "3.10.6"
  },
  "vscode": {
   "interpreter": {
    "hash": "82e0ce9f90a621cd11cace8574c394b709e0e5480ceb90d5a21725b7f725786c"
   }
  }
 },
 "nbformat": 4,
 "nbformat_minor": 2
}
